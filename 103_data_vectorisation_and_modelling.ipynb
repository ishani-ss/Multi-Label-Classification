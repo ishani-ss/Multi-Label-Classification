{
 "cells": [
  {
   "cell_type": "markdown",
   "metadata": {},
   "source": [
    "## Data Vectorisation and Modelling\n",
    "##### This code vectorises the text data to numerical format in the features dataset, in preparation for multi-label modelling. "
   ]
  },
  {
   "cell_type": "markdown",
   "metadata": {},
   "source": [
    "### 1. Import Data"
   ]
  },
  {
   "cell_type": "code",
   "execution_count": 26,
   "metadata": {},
   "outputs": [
    {
     "data": {
      "text/html": [
       "<div>\n",
       "<style scoped>\n",
       "    .dataframe tbody tr th:only-of-type {\n",
       "        vertical-align: middle;\n",
       "    }\n",
       "\n",
       "    .dataframe tbody tr th {\n",
       "        vertical-align: top;\n",
       "    }\n",
       "\n",
       "    .dataframe thead th {\n",
       "        text-align: right;\n",
       "    }\n",
       "</style>\n",
       "<table border=\"1\" class=\"dataframe\">\n",
       "  <thead>\n",
       "    <tr style=\"text-align: right;\">\n",
       "      <th></th>\n",
       "      <th>pmid</th>\n",
       "      <th>keywords</th>\n",
       "    </tr>\n",
       "  </thead>\n",
       "  <tbody>\n",
       "    <tr>\n",
       "      <th>0</th>\n",
       "      <td>8549602</td>\n",
       "      <td>['cervical', 'cancer', 'hpv', 'expression', 'd...</td>\n",
       "    </tr>\n",
       "    <tr>\n",
       "      <th>1</th>\n",
       "      <td>21736816</td>\n",
       "      <td>['trimester', 'serum', 'levels', 'women', 'vit...</td>\n",
       "    </tr>\n",
       "    <tr>\n",
       "      <th>2</th>\n",
       "      <td>19060934</td>\n",
       "      <td>['opioid', 'tyr', 'pro', 'activity', 'atypical...</td>\n",
       "    </tr>\n",
       "    <tr>\n",
       "      <th>3</th>\n",
       "      <td>11426874</td>\n",
       "      <td>['membrane', 'multilayer', 'encapsulation', 'p...</td>\n",
       "    </tr>\n",
       "    <tr>\n",
       "      <th>4</th>\n",
       "      <td>28323099</td>\n",
       "      <td>['nanogels', 'obtained', 'cells', 'dox', 'drug...</td>\n",
       "    </tr>\n",
       "  </tbody>\n",
       "</table>\n",
       "</div>"
      ],
      "text/plain": [
       "       pmid                                           keywords\n",
       "0   8549602  ['cervical', 'cancer', 'hpv', 'expression', 'd...\n",
       "1  21736816  ['trimester', 'serum', 'levels', 'women', 'vit...\n",
       "2  19060934  ['opioid', 'tyr', 'pro', 'activity', 'atypical...\n",
       "3  11426874  ['membrane', 'multilayer', 'encapsulation', 'p...\n",
       "4  28323099  ['nanogels', 'obtained', 'cells', 'dox', 'drug..."
      ]
     },
     "execution_count": 26,
     "metadata": {},
     "output_type": "execute_result"
    }
   ],
   "source": [
    "# Import packages\n",
    "import pandas as pd\n",
    "import numpy as np\n",
    "\n",
    "# Import data\n",
    "features = pd.read_excel(r\"/Users/ishanisahama/Documents/Data Science/github_blog/multi-label classification/output/features_proc.xlsx\", index_col=0)\n",
    "labels = pd.read_excel(r\"/Users/ishanisahama/Documents/Data Science/github_blog/multi-label classification/output/labels_proc.xlsx\", index_col=0)\n",
    "features.head()"
   ]
  },
  {
   "cell_type": "markdown",
   "metadata": {},
   "source": [
    "### 2. Text Preprocessing"
   ]
  },
  {
   "cell_type": "code",
   "execution_count": 27,
   "metadata": {},
   "outputs": [
    {
     "data": {
      "text/html": [
       "<div>\n",
       "<style scoped>\n",
       "    .dataframe tbody tr th:only-of-type {\n",
       "        vertical-align: middle;\n",
       "    }\n",
       "\n",
       "    .dataframe tbody tr th {\n",
       "        vertical-align: top;\n",
       "    }\n",
       "\n",
       "    .dataframe thead th {\n",
       "        text-align: right;\n",
       "    }\n",
       "</style>\n",
       "<table border=\"1\" class=\"dataframe\">\n",
       "  <thead>\n",
       "    <tr style=\"text-align: right;\">\n",
       "      <th></th>\n",
       "      <th>pmid</th>\n",
       "      <th>keywords</th>\n",
       "    </tr>\n",
       "  </thead>\n",
       "  <tbody>\n",
       "    <tr>\n",
       "      <th>0</th>\n",
       "      <td>8549602</td>\n",
       "      <td>cervical, cancer, hpv, expression, dysplasia, ...</td>\n",
       "    </tr>\n",
       "    <tr>\n",
       "      <th>1</th>\n",
       "      <td>21736816</td>\n",
       "      <td>trimester, serum, levels, women, vitamin, stat...</td>\n",
       "    </tr>\n",
       "    <tr>\n",
       "      <th>2</th>\n",
       "      <td>19060934</td>\n",
       "      <td>opioid, tyr, pro, activity, atypical, peptides...</td>\n",
       "    </tr>\n",
       "    <tr>\n",
       "      <th>3</th>\n",
       "      <td>11426874</td>\n",
       "      <td>membrane, multilayer, encapsulation, pancreati...</td>\n",
       "    </tr>\n",
       "    <tr>\n",
       "      <th>4</th>\n",
       "      <td>28323099</td>\n",
       "      <td>nanogels, obtained, cells, dox, drug, acryloyl...</td>\n",
       "    </tr>\n",
       "  </tbody>\n",
       "</table>\n",
       "</div>"
      ],
      "text/plain": [
       "       pmid                                           keywords\n",
       "0   8549602  cervical, cancer, hpv, expression, dysplasia, ...\n",
       "1  21736816  trimester, serum, levels, women, vitamin, stat...\n",
       "2  19060934  opioid, tyr, pro, activity, atypical, peptides...\n",
       "3  11426874  membrane, multilayer, encapsulation, pancreati...\n",
       "4  28323099  nanogels, obtained, cells, dox, drug, acryloyl..."
      ]
     },
     "execution_count": 27,
     "metadata": {},
     "output_type": "execute_result"
    }
   ],
   "source": [
    "# Import packages\n",
    "import re\n",
    "\n",
    "# Preprocess keyword output (removes everything except words and commas)\n",
    "features[\"keywords\"] = [re.sub(r'[^a-zA-Z, ]', \"\", str(x)) for x in features[\"keywords\"]]\n",
    "features.head()\n"
   ]
  },
  {
   "cell_type": "markdown",
   "metadata": {},
   "source": [
    "### 3. Prepare input table for Modelling"
   ]
  },
  {
   "cell_type": "code",
   "execution_count": 28,
   "metadata": {},
   "outputs": [
    {
     "data": {
      "text/plain": [
       "(9996, 6)"
      ]
     },
     "execution_count": 28,
     "metadata": {},
     "output_type": "execute_result"
    }
   ],
   "source": [
    "# Merge dataset\n",
    "df = pd.merge(features, labels, on=\"pmid\").drop_duplicates()\n",
    "df.shape\n"
   ]
  },
  {
   "cell_type": "code",
   "execution_count": 29,
   "metadata": {},
   "outputs": [
    {
     "data": {
      "text/html": [
       "<div>\n",
       "<style scoped>\n",
       "    .dataframe tbody tr th:only-of-type {\n",
       "        vertical-align: middle;\n",
       "    }\n",
       "\n",
       "    .dataframe tbody tr th {\n",
       "        vertical-align: top;\n",
       "    }\n",
       "\n",
       "    .dataframe thead th {\n",
       "        text-align: right;\n",
       "    }\n",
       "</style>\n",
       "<table border=\"1\" class=\"dataframe\">\n",
       "  <thead>\n",
       "    <tr style=\"text-align: right;\">\n",
       "      <th></th>\n",
       "      <th>pmid</th>\n",
       "      <th>keywords</th>\n",
       "      <th>anatomy</th>\n",
       "      <th>organisms</th>\n",
       "      <th>diseases</th>\n",
       "      <th>chemicals_and_drugs</th>\n",
       "    </tr>\n",
       "  </thead>\n",
       "  <tbody>\n",
       "    <tr>\n",
       "      <th>0</th>\n",
       "      <td>8549602</td>\n",
       "      <td>cervical, cancer, hpv, expression, dysplasia, ...</td>\n",
       "      <td>0</td>\n",
       "      <td>1</td>\n",
       "      <td>1</td>\n",
       "      <td>1</td>\n",
       "    </tr>\n",
       "    <tr>\n",
       "      <th>1</th>\n",
       "      <td>21736816</td>\n",
       "      <td>trimester, serum, levels, women, vitamin, stat...</td>\n",
       "      <td>0</td>\n",
       "      <td>1</td>\n",
       "      <td>1</td>\n",
       "      <td>1</td>\n",
       "    </tr>\n",
       "    <tr>\n",
       "      <th>2</th>\n",
       "      <td>19060934</td>\n",
       "      <td>opioid, tyr, pro, activity, atypical, peptides...</td>\n",
       "      <td>1</td>\n",
       "      <td>1</td>\n",
       "      <td>0</td>\n",
       "      <td>1</td>\n",
       "    </tr>\n",
       "    <tr>\n",
       "      <th>3</th>\n",
       "      <td>11426874</td>\n",
       "      <td>membrane, multilayer, encapsulation, pancreati...</td>\n",
       "      <td>1</td>\n",
       "      <td>1</td>\n",
       "      <td>1</td>\n",
       "      <td>1</td>\n",
       "    </tr>\n",
       "    <tr>\n",
       "      <th>4</th>\n",
       "      <td>28323099</td>\n",
       "      <td>nanogels, obtained, cells, dox, drug, acryloyl...</td>\n",
       "      <td>1</td>\n",
       "      <td>1</td>\n",
       "      <td>0</td>\n",
       "      <td>1</td>\n",
       "    </tr>\n",
       "  </tbody>\n",
       "</table>\n",
       "</div>"
      ],
      "text/plain": [
       "       pmid                                           keywords  anatomy  \\\n",
       "0   8549602  cervical, cancer, hpv, expression, dysplasia, ...        0   \n",
       "1  21736816  trimester, serum, levels, women, vitamin, stat...        0   \n",
       "2  19060934  opioid, tyr, pro, activity, atypical, peptides...        1   \n",
       "3  11426874  membrane, multilayer, encapsulation, pancreati...        1   \n",
       "4  28323099  nanogels, obtained, cells, dox, drug, acryloyl...        1   \n",
       "\n",
       "   organisms  diseases  chemicals_and_drugs  \n",
       "0          1         1                    1  \n",
       "1          1         1                    1  \n",
       "2          1         0                    1  \n",
       "3          1         1                    1  \n",
       "4          1         0                    1  "
      ]
     },
     "execution_count": 29,
     "metadata": {},
     "output_type": "execute_result"
    }
   ],
   "source": [
    "df.head()"
   ]
  },
  {
   "cell_type": "code",
   "execution_count": 30,
   "metadata": {},
   "outputs": [],
   "source": [
    "# Transform words to feature vectors \n",
    "from sklearn.feature_extraction.text import CountVectorizer\n",
    "vectorizer = CountVectorizer(min_df=2, max_df=0.8, ngram_range=(1,1))\n",
    "X = vectorizer.fit_transform(df[\"keywords\"]).toarray()\n",
    "\n",
    "from sklearn.feature_extraction.text import TfidfTransformer\n",
    "tfidfconverter = TfidfTransformer()\n",
    "X = tfidfconverter.fit_transform(X).toarray()"
   ]
  },
  {
   "cell_type": "code",
   "execution_count": 31,
   "metadata": {},
   "outputs": [],
   "source": [
    "# Create labels for the modelling input table \n",
    "column_names = vectorizer.get_feature_names_out().tolist()\n",
    "column_names.extend([\"target_anatomy\", \"target_organisms\", \"target_diseases\", \"target_chemicals_and_drugs\"])"
   ]
  },
  {
   "cell_type": "code",
   "execution_count": 32,
   "metadata": {},
   "outputs": [],
   "source": [
    "# Grab the target values for the modelling input table\n",
    "cols = [\"anatomy\", \"organisms\", \"diseases\", \"chemicals_and_drugs\"]\n",
    "label = df[cols].values.tolist()"
   ]
  },
  {
   "cell_type": "code",
   "execution_count": 33,
   "metadata": {},
   "outputs": [
    {
     "data": {
      "text/html": [
       "<div>\n",
       "<style scoped>\n",
       "    .dataframe tbody tr th:only-of-type {\n",
       "        vertical-align: middle;\n",
       "    }\n",
       "\n",
       "    .dataframe tbody tr th {\n",
       "        vertical-align: top;\n",
       "    }\n",
       "\n",
       "    .dataframe thead th {\n",
       "        text-align: right;\n",
       "    }\n",
       "</style>\n",
       "<table border=\"1\" class=\"dataframe\">\n",
       "  <thead>\n",
       "    <tr style=\"text-align: right;\">\n",
       "      <th></th>\n",
       "      <th>aaa</th>\n",
       "      <th>aav</th>\n",
       "      <th>aba</th>\n",
       "      <th>abc</th>\n",
       "      <th>abca</th>\n",
       "      <th>abdomen</th>\n",
       "      <th>abdominal</th>\n",
       "      <th>aberrant</th>\n",
       "      <th>aberrations</th>\n",
       "      <th>abeta</th>\n",
       "      <th>...</th>\n",
       "      <th>zidovudine</th>\n",
       "      <th>zinc</th>\n",
       "      <th>zns</th>\n",
       "      <th>zona</th>\n",
       "      <th>zone</th>\n",
       "      <th>zones</th>\n",
       "      <th>target_anatomy</th>\n",
       "      <th>target_organisms</th>\n",
       "      <th>target_diseases</th>\n",
       "      <th>target_chemicals_and_drugs</th>\n",
       "    </tr>\n",
       "  </thead>\n",
       "  <tbody>\n",
       "    <tr>\n",
       "      <th>0</th>\n",
       "      <td>0.0</td>\n",
       "      <td>0.0</td>\n",
       "      <td>0.0</td>\n",
       "      <td>0.0</td>\n",
       "      <td>0.0</td>\n",
       "      <td>0.0</td>\n",
       "      <td>0.0</td>\n",
       "      <td>0.0</td>\n",
       "      <td>0.0</td>\n",
       "      <td>0.0</td>\n",
       "      <td>...</td>\n",
       "      <td>0.0</td>\n",
       "      <td>0.0</td>\n",
       "      <td>0.0</td>\n",
       "      <td>0.0</td>\n",
       "      <td>0.0</td>\n",
       "      <td>0.0</td>\n",
       "      <td>0.0</td>\n",
       "      <td>1.0</td>\n",
       "      <td>1.0</td>\n",
       "      <td>1.0</td>\n",
       "    </tr>\n",
       "    <tr>\n",
       "      <th>1</th>\n",
       "      <td>0.0</td>\n",
       "      <td>0.0</td>\n",
       "      <td>0.0</td>\n",
       "      <td>0.0</td>\n",
       "      <td>0.0</td>\n",
       "      <td>0.0</td>\n",
       "      <td>0.0</td>\n",
       "      <td>0.0</td>\n",
       "      <td>0.0</td>\n",
       "      <td>0.0</td>\n",
       "      <td>...</td>\n",
       "      <td>0.0</td>\n",
       "      <td>0.0</td>\n",
       "      <td>0.0</td>\n",
       "      <td>0.0</td>\n",
       "      <td>0.0</td>\n",
       "      <td>0.0</td>\n",
       "      <td>0.0</td>\n",
       "      <td>1.0</td>\n",
       "      <td>1.0</td>\n",
       "      <td>1.0</td>\n",
       "    </tr>\n",
       "    <tr>\n",
       "      <th>2</th>\n",
       "      <td>0.0</td>\n",
       "      <td>0.0</td>\n",
       "      <td>0.0</td>\n",
       "      <td>0.0</td>\n",
       "      <td>0.0</td>\n",
       "      <td>0.0</td>\n",
       "      <td>0.0</td>\n",
       "      <td>0.0</td>\n",
       "      <td>0.0</td>\n",
       "      <td>0.0</td>\n",
       "      <td>...</td>\n",
       "      <td>0.0</td>\n",
       "      <td>0.0</td>\n",
       "      <td>0.0</td>\n",
       "      <td>0.0</td>\n",
       "      <td>0.0</td>\n",
       "      <td>0.0</td>\n",
       "      <td>1.0</td>\n",
       "      <td>1.0</td>\n",
       "      <td>0.0</td>\n",
       "      <td>1.0</td>\n",
       "    </tr>\n",
       "    <tr>\n",
       "      <th>3</th>\n",
       "      <td>0.0</td>\n",
       "      <td>0.0</td>\n",
       "      <td>0.0</td>\n",
       "      <td>0.0</td>\n",
       "      <td>0.0</td>\n",
       "      <td>0.0</td>\n",
       "      <td>0.0</td>\n",
       "      <td>0.0</td>\n",
       "      <td>0.0</td>\n",
       "      <td>0.0</td>\n",
       "      <td>...</td>\n",
       "      <td>0.0</td>\n",
       "      <td>0.0</td>\n",
       "      <td>0.0</td>\n",
       "      <td>0.0</td>\n",
       "      <td>0.0</td>\n",
       "      <td>0.0</td>\n",
       "      <td>1.0</td>\n",
       "      <td>1.0</td>\n",
       "      <td>1.0</td>\n",
       "      <td>1.0</td>\n",
       "    </tr>\n",
       "    <tr>\n",
       "      <th>4</th>\n",
       "      <td>0.0</td>\n",
       "      <td>0.0</td>\n",
       "      <td>0.0</td>\n",
       "      <td>0.0</td>\n",
       "      <td>0.0</td>\n",
       "      <td>0.0</td>\n",
       "      <td>0.0</td>\n",
       "      <td>0.0</td>\n",
       "      <td>0.0</td>\n",
       "      <td>0.0</td>\n",
       "      <td>...</td>\n",
       "      <td>0.0</td>\n",
       "      <td>0.0</td>\n",
       "      <td>0.0</td>\n",
       "      <td>0.0</td>\n",
       "      <td>0.0</td>\n",
       "      <td>0.0</td>\n",
       "      <td>1.0</td>\n",
       "      <td>1.0</td>\n",
       "      <td>0.0</td>\n",
       "      <td>1.0</td>\n",
       "    </tr>\n",
       "  </tbody>\n",
       "</table>\n",
       "<p>5 rows × 8966 columns</p>\n",
       "</div>"
      ],
      "text/plain": [
       "   aaa  aav  aba  abc  abca  abdomen  abdominal  aberrant  aberrations  abeta  \\\n",
       "0  0.0  0.0  0.0  0.0   0.0      0.0        0.0       0.0          0.0    0.0   \n",
       "1  0.0  0.0  0.0  0.0   0.0      0.0        0.0       0.0          0.0    0.0   \n",
       "2  0.0  0.0  0.0  0.0   0.0      0.0        0.0       0.0          0.0    0.0   \n",
       "3  0.0  0.0  0.0  0.0   0.0      0.0        0.0       0.0          0.0    0.0   \n",
       "4  0.0  0.0  0.0  0.0   0.0      0.0        0.0       0.0          0.0    0.0   \n",
       "\n",
       "   ...  zidovudine  zinc  zns  zona  zone  zones  target_anatomy  \\\n",
       "0  ...         0.0   0.0  0.0   0.0   0.0    0.0             0.0   \n",
       "1  ...         0.0   0.0  0.0   0.0   0.0    0.0             0.0   \n",
       "2  ...         0.0   0.0  0.0   0.0   0.0    0.0             1.0   \n",
       "3  ...         0.0   0.0  0.0   0.0   0.0    0.0             1.0   \n",
       "4  ...         0.0   0.0  0.0   0.0   0.0    0.0             1.0   \n",
       "\n",
       "   target_organisms  target_diseases  target_chemicals_and_drugs  \n",
       "0               1.0              1.0                         1.0  \n",
       "1               1.0              1.0                         1.0  \n",
       "2               1.0              0.0                         1.0  \n",
       "3               1.0              1.0                         1.0  \n",
       "4               1.0              0.0                         1.0  \n",
       "\n",
       "[5 rows x 8966 columns]"
      ]
     },
     "execution_count": 33,
     "metadata": {},
     "output_type": "execute_result"
    }
   ],
   "source": [
    "# Create the modelling input table\n",
    "np_comb = np.column_stack((X, label))\n",
    "model = pd.DataFrame(np_comb, columns=column_names)\n",
    "model.head()"
   ]
  },
  {
   "cell_type": "markdown",
   "metadata": {},
   "source": [
    "### 4. Multi-Label Classification Modelling\n",
    "In this modelling exercise, MLkNN was used as highlighted in the \"modelling_notes_and_caveats.md\" file [https://github.com/ishani-ss/Multi-Label-Classification/blob/main/modelling_notes_and_caveats.md] of this repository, due to the affordance of the predict_proba functionality. This functionality provides label predictions through proportions, matching the work problem requirements. "
   ]
  },
  {
   "cell_type": "code",
   "execution_count": 34,
   "metadata": {},
   "outputs": [],
   "source": [
    "# Select features (X) and labels (y) datasets\n",
    "X = model.drop([\"target_anatomy\", \"target_organisms\", \"target_diseases\", \"target_chemicals_and_drugs\"], axis=1)\n",
    "y = model[[\"target_anatomy\", \"target_organisms\", \"target_diseases\", \"target_chemicals_and_drugs\"]]\n",
    "\n",
    "# Convert datasets to sparse format for downstream modelling (keep as \"int32\" to avoid downstream errors related to incomplete data and sparse matrices)\n",
    "from scipy.sparse import csr_matrix\n",
    "X = csr_matrix(X.astype(pd.SparseDtype(\"int32\", 0)).sparse.to_coo())\n",
    "y = csr_matrix(y.astype(pd.SparseDtype(\"int32\", 0)).sparse.to_coo())\n",
    "\n",
    "# Train-Test splitting of modelling data (70:30 split)\n",
    "from sklearn.model_selection import train_test_split\n",
    "X_train, X_test, y_train, y_test = train_test_split(X, y, test_size=0.3, random_state=123)"
   ]
  },
  {
   "cell_type": "code",
   "execution_count": 35,
   "metadata": {},
   "outputs": [
    {
     "name": "stdout",
     "output_type": "stream",
     "text": [
      "{'k': 3, 's': 0.5} 0.6041609751347842\n"
     ]
    }
   ],
   "source": [
    "# COMPUTATIONALLY EXPENSIVE: Use GridSearchCV to find the optimal set of parameters for MLKNN:\n",
    "from skmultilearn.adapt import MLkNN\n",
    "from sklearn.model_selection import GridSearchCV\n",
    "\n",
    "parameters = {'k': range(3,20), 's': [0.5, 0.75, 1.0]}\n",
    "score = 'f1_macro'\n",
    "\n",
    "clf = GridSearchCV(MLkNN(), parameters, scoring=score)\n",
    "clf.fit(X_train, y_train)\n",
    "\n",
    "# The \"best_score\" is the mean cross-validated score of the best_estimator (will need to investigate further)\n",
    "print (clf.best_params_, clf.best_score_)\n",
    "\n",
    "# SOURCES:\n",
    "# http://scikit.ml/api/skmultilearn.adapt.mlknn.html#multilabel-k-nearest-neighbours\n",
    "# https://scikit-learn.org/stable/modules/generated/sklearn.model_selection.GridSearchCV.html#sklearn.model_selection.GridSearchCV"
   ]
  },
  {
   "cell_type": "code",
   "execution_count": 36,
   "metadata": {},
   "outputs": [
    {
     "name": "stderr",
     "output_type": "stream",
     "text": [
      "/Library/Frameworks/Python.framework/Versions/3.12/lib/python3.12/site-packages/sklearn/metrics/_classification.py:1531: UndefinedMetricWarning: Precision is ill-defined and being set to 0.0 in labels with no predicted samples. Use `zero_division` parameter to control this behavior.\n",
      "  _warn_prf(average, modifier, f\"{metric.capitalize()} is\", len(result))\n"
     ]
    },
    {
     "data": {
      "text/plain": [
       "0.600589004761517"
      ]
     },
     "execution_count": 36,
     "metadata": {},
     "output_type": "execute_result"
    }
   ],
   "source": [
    "# Build the model\n",
    "from skmultilearn.adapt import MLkNN\n",
    "\n",
    "## Initialise model\n",
    "clf = MLkNN(k=3, s=0.5)\n",
    "\n",
    "## Train\n",
    "clf.fit(X_train, y_train)\n",
    "\n",
    "## Predict\n",
    "pred = clf.predict(X_test) # Further work will need to be undertaken into \"predict_proba\" as the number of rows do not match the true labels\n",
    "\n",
    "## Output metrics\n",
    "import sklearn.metrics as metrics\n",
    "metrics.precision_score(y_test, pred, average=\"weighted\")"
   ]
  },
  {
   "cell_type": "code",
   "execution_count": 37,
   "metadata": {},
   "outputs": [
    {
     "data": {
      "text/plain": [
       "0.8185648452929559"
      ]
     },
     "execution_count": 37,
     "metadata": {},
     "output_type": "execute_result"
    }
   ],
   "source": [
    "metrics.recall_score(y_test, pred, average=\"weighted\")"
   ]
  },
  {
   "cell_type": "code",
   "execution_count": 38,
   "metadata": {},
   "outputs": [
    {
     "data": {
      "text/plain": [
       "'\\n@article{zhang2007ml,\\n  title={ML-KNN: A lazy learning approach to multi-label learning},\\n  author={Zhang, Min-Ling and Zhou, Zhi-Hua},\\n  journal={Pattern recognition},\\n  volume={40},\\n  number={7},\\n  pages={2038--2048},\\n  year={2007},\\n  publisher={Elsevier}\\n}\\n'"
      ]
     },
     "execution_count": 38,
     "metadata": {},
     "output_type": "execute_result"
    }
   ],
   "source": [
    "# MODEL SOURCE\n",
    "'''\n",
    "@article{zhang2007ml,\n",
    "  title={ML-KNN: A lazy learning approach to multi-label learning},\n",
    "  author={Zhang, Min-Ling and Zhou, Zhi-Hua},\n",
    "  journal={Pattern recognition},\n",
    "  volume={40},\n",
    "  number={7},\n",
    "  pages={2038--2048},\n",
    "  year={2007},\n",
    "  publisher={Elsevier}\n",
    "}\n",
    "'''"
   ]
  }
 ],
 "metadata": {
  "kernelspec": {
   "display_name": "Python 3",
   "language": "python",
   "name": "python3"
  },
  "language_info": {
   "codemirror_mode": {
    "name": "ipython",
    "version": 3
   },
   "file_extension": ".py",
   "mimetype": "text/x-python",
   "name": "python",
   "nbconvert_exporter": "python",
   "pygments_lexer": "ipython3",
   "version": "3.12.2"
  }
 },
 "nbformat": 4,
 "nbformat_minor": 2
}
